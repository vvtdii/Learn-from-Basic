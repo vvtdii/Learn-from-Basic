{
  "nbformat": 4,
  "nbformat_minor": 0,
  "metadata": {
    "colab": {
      "provenance": [],
      "collapsed_sections": [
        "bs5JaR4vfb-E",
        "nWp0ZPhPfbq5",
        "cqSQQrzqgkw5",
        "BnO71EFyhAAG",
        "BKc505eHhvQJ",
        "Lcg2NFqTiRkF",
        "WM9BaQBfi3xf",
        "tVeQuCumihVg",
        "RuwImRO_jroy",
        "7E0t4MSAlUsu",
        "FfRtxbjBqUnW"
      ]
    },
    "kernelspec": {
      "name": "python3",
      "display_name": "Python 3"
    },
    "language_info": {
      "name": "python"
    }
  },
  "cells": [
    {
      "cell_type": "markdown",
      "source": [
        "Pada contoh kali ini pendefinisian data yang diimport akan diumpamakan dengan nama \"DataFrame\""
      ],
      "metadata": {
        "id": "I_A50LITjWlK"
      }
    },
    {
      "cell_type": "markdown",
      "source": [
        "## Library"
      ],
      "metadata": {
        "id": "bs5JaR4vfb-E"
      }
    },
    {
      "cell_type": "markdown",
      "source": [
        "Library adalah kumpulan modul terkait berisi kumpulan kode yang dapat digunakan berulang kali dalam program yang berbeda. Adanya library membuat pemrograman python menjadi lebih sederhana karena tidak perlu menulis kode yang sama berulang kali untuk program yang berbeda."
      ],
      "metadata": {
        "id": "KAiFyglWfmNu"
      }
    },
    {
      "cell_type": "code",
      "source": [
        "# Import library\n",
        "import pandas as pd\n",
        "import numpy as np\n",
        "import scipy.stats"
      ],
      "metadata": {
        "id": "j0yS9q2mfhaQ"
      },
      "execution_count": null,
      "outputs": []
    },
    {
      "cell_type": "markdown",
      "source": [
        "## Import Data"
      ],
      "metadata": {
        "id": "nWp0ZPhPfbq5"
      }
    },
    {
      "cell_type": "code",
      "source": [
        "#Contoh data diambil langsung dari google drive\n",
        "from google.colab import drive\n",
        "drive.mount('/content/drive')\n",
        "DataFrame = pd.read_csv('/content/drive/MyDrive/vvvvvvv/1Dataset Andaat_Data Latih.csv')"
      ],
      "metadata": {
        "id": "3Sr14G3SgT9F",
        "colab": {
          "base_uri": "https://localhost:8080/"
        },
        "outputId": "5be86add-9801-468f-eb55-4df49f7fdb04"
      },
      "execution_count": null,
      "outputs": [
        {
          "output_type": "stream",
          "name": "stdout",
          "text": [
            "Mounted at /content/drive\n"
          ]
        }
      ]
    },
    {
      "cell_type": "markdown",
      "source": [
        "## Pre-Processing Data"
      ],
      "metadata": {
        "id": "cqSQQrzqgkw5"
      }
    },
    {
      "cell_type": "markdown",
      "source": [
        "### Drop duplicate data"
      ],
      "metadata": {
        "id": "BnO71EFyhAAG"
      }
    },
    {
      "cell_type": "markdown",
      "source": [
        "Dalam melakukan sebuah analisis, adanya data duplikat akan membuat analisis kita menjadi bias. Oleh karena itu, sangat penting bagi kita untuk menghapus data duplikat yang ada pada data"
      ],
      "metadata": {
        "id": "EdoYDhQDhGZo"
      }
    },
    {
      "cell_type": "code",
      "source": [
        "#Melihat apakah ada data duplikasi atau tidak\n",
        "DataFrame.duplicated().sum()"
      ],
      "metadata": {
        "colab": {
          "base_uri": "https://localhost:8080/"
        },
        "id": "Ey2GObZE6EBf",
        "outputId": "642059c3-77e1-43cf-fc7b-1e16d93e4dd6"
      },
      "execution_count": null,
      "outputs": [
        {
          "output_type": "execute_result",
          "data": {
            "text/plain": [
              "476"
            ]
          },
          "metadata": {},
          "execution_count": 5
        }
      ]
    },
    {
      "cell_type": "code",
      "source": [
        "#Menghapus data yang merupakan duplikasi\n",
        "DataFrame=DataFrame.drop_duplicates()"
      ],
      "metadata": {
        "id": "Rue_NMWQhNMv"
      },
      "execution_count": null,
      "outputs": []
    },
    {
      "cell_type": "markdown",
      "source": [
        "### Check data type"
      ],
      "metadata": {
        "id": "BKc505eHhvQJ"
      }
    },
    {
      "cell_type": "markdown",
      "source": [
        "Sebelum melakukan analisis, kita perlu memastikan tipe data yang kita mili\u0002ki, apakah sudah sesuai atau belum dengan yang sebenarnya"
      ],
      "metadata": {
        "id": "ia00mMgBiQvC"
      }
    },
    {
      "cell_type": "markdown",
      "source": [
        "### Missing Value Analysis"
      ],
      "metadata": {
        "id": "Lcg2NFqTiRkF"
      }
    },
    {
      "cell_type": "markdown",
      "source": [
        "\n",
        "> Terdapat beberapa alasan, seperti nilai hilang selama proses\n",
        "akuisisi data, nilai terhapus secara tidak sengaja, data rusak, ketidakcocokan antara\n",
        "posisi baris dan kolom, dan nilai sebenarnya tidak tersedia.\n",
        "\n"
      ],
      "metadata": {
        "id": "ZD2nrJY2ibtm"
      }
    },
    {
      "cell_type": "markdown",
      "source": [
        "\n",
        "> Terdapat beberapa cara untuk menangani hal tersebut, seperti menghapus observasi\n",
        "tersebut, menghapus kolom, atau melakukan pengisian (imputasi).\n",
        "\n"
      ],
      "metadata": {
        "id": "bVGYhEpfidUf"
      }
    },
    {
      "cell_type": "markdown",
      "source": [
        "#### Melihat total missing value pada data"
      ],
      "metadata": {
        "id": "WM9BaQBfi3xf"
      }
    },
    {
      "cell_type": "code",
      "source": [
        "DataFrame.isna().sum()"
      ],
      "metadata": {
        "colab": {
          "base_uri": "https://localhost:8080/"
        },
        "id": "HHsAr6xti6Z-",
        "outputId": "5f64435c-7741-4694-cde7-b8d1b291c0c2"
      },
      "execution_count": null,
      "outputs": [
        {
          "output_type": "execute_result",
          "data": {
            "text/plain": [
              "Rating            204\n",
              "App                 0\n",
              "Category            0\n",
              "Reviews             0\n",
              "Size                0\n",
              "Installs            0\n",
              "Type                0\n",
              "Price               0\n",
              "Content Rating      0\n",
              "Genres              0\n",
              "Android Ver         2\n",
              "dtype: int64"
            ]
          },
          "metadata": {},
          "execution_count": 7
        }
      ]
    },
    {
      "cell_type": "markdown",
      "source": [
        "#### Menghapus Missing Value"
      ],
      "metadata": {
        "id": "tVeQuCumihVg"
      }
    },
    {
      "cell_type": "markdown",
      "source": [
        "Menghapus missing value pada keseluruhan data"
      ],
      "metadata": {
        "id": "YlUYS6Vij379"
      }
    },
    {
      "cell_type": "code",
      "source": [
        "DataFrame.dropna()"
      ],
      "metadata": {
        "id": "60khwumSjDQF",
        "colab": {
          "base_uri": "https://localhost:8080/",
          "height": 589
        },
        "outputId": "f6671b75-16e9-4405-f07b-d3cb1ef2a70d"
      },
      "execution_count": null,
      "outputs": [
        {
          "output_type": "execute_result",
          "data": {
            "text/plain": [
              "      Rating                                                App  \\\n",
              "0        5.0            Spring flowers theme couleurs d t space   \n",
              "1        4.8                         Harley Quinn wallpapers HD   \n",
              "2        4.8                                  Cardi B Wallpaper   \n",
              "3        4.8  X Launcher Pro - IOS Style Theme & Control Center   \n",
              "4        4.8                            AJ Styles HD Wallpapers   \n",
              "...      ...                                                ...   \n",
              "9565     3.7                                     DS Thermometer   \n",
              "9566     3.6                   Klart.se - Sweden's best weather   \n",
              "9567     3.5                                       SMHI Weather   \n",
              "9568     3.5                                       Storm Shield   \n",
              "9569     3.3                              Sun & Moon AR Locator   \n",
              "\n",
              "            Category  Reviews                Size    Installs  Type   Price  \\\n",
              "0     ART_AND_DESIGN        1                2.9M        100+  Free       0   \n",
              "1     ART_AND_DESIGN      192                6.0M     10,000+  Free       0   \n",
              "2     ART_AND_DESIGN      253                3.7M     50,000+  Free       0   \n",
              "3     ART_AND_DESIGN     1216                8.6M     10,000+  Paid  $1.99    \n",
              "4     ART_AND_DESIGN       48                 25M      5,000+  Free       0   \n",
              "...              ...      ...                 ...         ...   ...     ...   \n",
              "9565         WEATHER      631                3.0M    100,000+  Free       0   \n",
              "9566         WEATHER     7623                 19M  1,000,000+  Free       0   \n",
              "9567         WEATHER    11297  Varies with device  1,000,000+  Free       0   \n",
              "9568         WEATHER     2000                 14M    100,000+  Free       0   \n",
              "9569         WEATHER      115                5.1M     10,000+  Free       0   \n",
              "\n",
              "     Content Rating        Genres         Android Ver  \n",
              "0          Everyone  Art & Design          4.0 and up  \n",
              "1          Everyone  Art & Design          3.0 and up  \n",
              "2          Everyone  Art & Design          4.0 and up  \n",
              "3          Everyone  Art & Design          4.1 and up  \n",
              "4          Everyone  Art & Design          4.1 and up  \n",
              "...             ...           ...                 ...  \n",
              "9565       Everyone       Weather          2.3 and up  \n",
              "9566       Everyone       Weather          4.4 and up  \n",
              "9567       Everyone       Weather  Varies with device  \n",
              "9568       Everyone       Weather          5.0 and up  \n",
              "9569       Everyone       Weather          4.1 and up  \n",
              "\n",
              "[8888 rows x 11 columns]"
            ],
            "text/html": [
              "\n",
              "  <div id=\"df-051c80a7-5623-4419-9ec5-c0c54e62ee12\">\n",
              "    <div class=\"colab-df-container\">\n",
              "      <div>\n",
              "<style scoped>\n",
              "    .dataframe tbody tr th:only-of-type {\n",
              "        vertical-align: middle;\n",
              "    }\n",
              "\n",
              "    .dataframe tbody tr th {\n",
              "        vertical-align: top;\n",
              "    }\n",
              "\n",
              "    .dataframe thead th {\n",
              "        text-align: right;\n",
              "    }\n",
              "</style>\n",
              "<table border=\"1\" class=\"dataframe\">\n",
              "  <thead>\n",
              "    <tr style=\"text-align: right;\">\n",
              "      <th></th>\n",
              "      <th>Rating</th>\n",
              "      <th>App</th>\n",
              "      <th>Category</th>\n",
              "      <th>Reviews</th>\n",
              "      <th>Size</th>\n",
              "      <th>Installs</th>\n",
              "      <th>Type</th>\n",
              "      <th>Price</th>\n",
              "      <th>Content Rating</th>\n",
              "      <th>Genres</th>\n",
              "      <th>Android Ver</th>\n",
              "    </tr>\n",
              "  </thead>\n",
              "  <tbody>\n",
              "    <tr>\n",
              "      <th>0</th>\n",
              "      <td>5.0</td>\n",
              "      <td>Spring flowers theme couleurs d t space</td>\n",
              "      <td>ART_AND_DESIGN</td>\n",
              "      <td>1</td>\n",
              "      <td>2.9M</td>\n",
              "      <td>100+</td>\n",
              "      <td>Free</td>\n",
              "      <td>0</td>\n",
              "      <td>Everyone</td>\n",
              "      <td>Art &amp; Design</td>\n",
              "      <td>4.0 and up</td>\n",
              "    </tr>\n",
              "    <tr>\n",
              "      <th>1</th>\n",
              "      <td>4.8</td>\n",
              "      <td>Harley Quinn wallpapers HD</td>\n",
              "      <td>ART_AND_DESIGN</td>\n",
              "      <td>192</td>\n",
              "      <td>6.0M</td>\n",
              "      <td>10,000+</td>\n",
              "      <td>Free</td>\n",
              "      <td>0</td>\n",
              "      <td>Everyone</td>\n",
              "      <td>Art &amp; Design</td>\n",
              "      <td>3.0 and up</td>\n",
              "    </tr>\n",
              "    <tr>\n",
              "      <th>2</th>\n",
              "      <td>4.8</td>\n",
              "      <td>Cardi B Wallpaper</td>\n",
              "      <td>ART_AND_DESIGN</td>\n",
              "      <td>253</td>\n",
              "      <td>3.7M</td>\n",
              "      <td>50,000+</td>\n",
              "      <td>Free</td>\n",
              "      <td>0</td>\n",
              "      <td>Everyone</td>\n",
              "      <td>Art &amp; Design</td>\n",
              "      <td>4.0 and up</td>\n",
              "    </tr>\n",
              "    <tr>\n",
              "      <th>3</th>\n",
              "      <td>4.8</td>\n",
              "      <td>X Launcher Pro - IOS Style Theme &amp; Control Center</td>\n",
              "      <td>ART_AND_DESIGN</td>\n",
              "      <td>1216</td>\n",
              "      <td>8.6M</td>\n",
              "      <td>10,000+</td>\n",
              "      <td>Paid</td>\n",
              "      <td>$1.99</td>\n",
              "      <td>Everyone</td>\n",
              "      <td>Art &amp; Design</td>\n",
              "      <td>4.1 and up</td>\n",
              "    </tr>\n",
              "    <tr>\n",
              "      <th>4</th>\n",
              "      <td>4.8</td>\n",
              "      <td>AJ Styles HD Wallpapers</td>\n",
              "      <td>ART_AND_DESIGN</td>\n",
              "      <td>48</td>\n",
              "      <td>25M</td>\n",
              "      <td>5,000+</td>\n",
              "      <td>Free</td>\n",
              "      <td>0</td>\n",
              "      <td>Everyone</td>\n",
              "      <td>Art &amp; Design</td>\n",
              "      <td>4.1 and up</td>\n",
              "    </tr>\n",
              "    <tr>\n",
              "      <th>...</th>\n",
              "      <td>...</td>\n",
              "      <td>...</td>\n",
              "      <td>...</td>\n",
              "      <td>...</td>\n",
              "      <td>...</td>\n",
              "      <td>...</td>\n",
              "      <td>...</td>\n",
              "      <td>...</td>\n",
              "      <td>...</td>\n",
              "      <td>...</td>\n",
              "      <td>...</td>\n",
              "    </tr>\n",
              "    <tr>\n",
              "      <th>9565</th>\n",
              "      <td>3.7</td>\n",
              "      <td>DS Thermometer</td>\n",
              "      <td>WEATHER</td>\n",
              "      <td>631</td>\n",
              "      <td>3.0M</td>\n",
              "      <td>100,000+</td>\n",
              "      <td>Free</td>\n",
              "      <td>0</td>\n",
              "      <td>Everyone</td>\n",
              "      <td>Weather</td>\n",
              "      <td>2.3 and up</td>\n",
              "    </tr>\n",
              "    <tr>\n",
              "      <th>9566</th>\n",
              "      <td>3.6</td>\n",
              "      <td>Klart.se - Sweden's best weather</td>\n",
              "      <td>WEATHER</td>\n",
              "      <td>7623</td>\n",
              "      <td>19M</td>\n",
              "      <td>1,000,000+</td>\n",
              "      <td>Free</td>\n",
              "      <td>0</td>\n",
              "      <td>Everyone</td>\n",
              "      <td>Weather</td>\n",
              "      <td>4.4 and up</td>\n",
              "    </tr>\n",
              "    <tr>\n",
              "      <th>9567</th>\n",
              "      <td>3.5</td>\n",
              "      <td>SMHI Weather</td>\n",
              "      <td>WEATHER</td>\n",
              "      <td>11297</td>\n",
              "      <td>Varies with device</td>\n",
              "      <td>1,000,000+</td>\n",
              "      <td>Free</td>\n",
              "      <td>0</td>\n",
              "      <td>Everyone</td>\n",
              "      <td>Weather</td>\n",
              "      <td>Varies with device</td>\n",
              "    </tr>\n",
              "    <tr>\n",
              "      <th>9568</th>\n",
              "      <td>3.5</td>\n",
              "      <td>Storm Shield</td>\n",
              "      <td>WEATHER</td>\n",
              "      <td>2000</td>\n",
              "      <td>14M</td>\n",
              "      <td>100,000+</td>\n",
              "      <td>Free</td>\n",
              "      <td>0</td>\n",
              "      <td>Everyone</td>\n",
              "      <td>Weather</td>\n",
              "      <td>5.0 and up</td>\n",
              "    </tr>\n",
              "    <tr>\n",
              "      <th>9569</th>\n",
              "      <td>3.3</td>\n",
              "      <td>Sun &amp; Moon AR Locator</td>\n",
              "      <td>WEATHER</td>\n",
              "      <td>115</td>\n",
              "      <td>5.1M</td>\n",
              "      <td>10,000+</td>\n",
              "      <td>Free</td>\n",
              "      <td>0</td>\n",
              "      <td>Everyone</td>\n",
              "      <td>Weather</td>\n",
              "      <td>4.1 and up</td>\n",
              "    </tr>\n",
              "  </tbody>\n",
              "</table>\n",
              "<p>8888 rows × 11 columns</p>\n",
              "</div>\n",
              "      <button class=\"colab-df-convert\" onclick=\"convertToInteractive('df-051c80a7-5623-4419-9ec5-c0c54e62ee12')\"\n",
              "              title=\"Convert this dataframe to an interactive table.\"\n",
              "              style=\"display:none;\">\n",
              "        \n",
              "  <svg xmlns=\"http://www.w3.org/2000/svg\" height=\"24px\"viewBox=\"0 0 24 24\"\n",
              "       width=\"24px\">\n",
              "    <path d=\"M0 0h24v24H0V0z\" fill=\"none\"/>\n",
              "    <path d=\"M18.56 5.44l.94 2.06.94-2.06 2.06-.94-2.06-.94-.94-2.06-.94 2.06-2.06.94zm-11 1L8.5 8.5l.94-2.06 2.06-.94-2.06-.94L8.5 2.5l-.94 2.06-2.06.94zm10 10l.94 2.06.94-2.06 2.06-.94-2.06-.94-.94-2.06-.94 2.06-2.06.94z\"/><path d=\"M17.41 7.96l-1.37-1.37c-.4-.4-.92-.59-1.43-.59-.52 0-1.04.2-1.43.59L10.3 9.45l-7.72 7.72c-.78.78-.78 2.05 0 2.83L4 21.41c.39.39.9.59 1.41.59.51 0 1.02-.2 1.41-.59l7.78-7.78 2.81-2.81c.8-.78.8-2.07 0-2.86zM5.41 20L4 18.59l7.72-7.72 1.47 1.35L5.41 20z\"/>\n",
              "  </svg>\n",
              "      </button>\n",
              "      \n",
              "  <style>\n",
              "    .colab-df-container {\n",
              "      display:flex;\n",
              "      flex-wrap:wrap;\n",
              "      gap: 12px;\n",
              "    }\n",
              "\n",
              "    .colab-df-convert {\n",
              "      background-color: #E8F0FE;\n",
              "      border: none;\n",
              "      border-radius: 50%;\n",
              "      cursor: pointer;\n",
              "      display: none;\n",
              "      fill: #1967D2;\n",
              "      height: 32px;\n",
              "      padding: 0 0 0 0;\n",
              "      width: 32px;\n",
              "    }\n",
              "\n",
              "    .colab-df-convert:hover {\n",
              "      background-color: #E2EBFA;\n",
              "      box-shadow: 0px 1px 2px rgba(60, 64, 67, 0.3), 0px 1px 3px 1px rgba(60, 64, 67, 0.15);\n",
              "      fill: #174EA6;\n",
              "    }\n",
              "\n",
              "    [theme=dark] .colab-df-convert {\n",
              "      background-color: #3B4455;\n",
              "      fill: #D2E3FC;\n",
              "    }\n",
              "\n",
              "    [theme=dark] .colab-df-convert:hover {\n",
              "      background-color: #434B5C;\n",
              "      box-shadow: 0px 1px 3px 1px rgba(0, 0, 0, 0.15);\n",
              "      filter: drop-shadow(0px 1px 2px rgba(0, 0, 0, 0.3));\n",
              "      fill: #FFFFFF;\n",
              "    }\n",
              "  </style>\n",
              "\n",
              "      <script>\n",
              "        const buttonEl =\n",
              "          document.querySelector('#df-051c80a7-5623-4419-9ec5-c0c54e62ee12 button.colab-df-convert');\n",
              "        buttonEl.style.display =\n",
              "          google.colab.kernel.accessAllowed ? 'block' : 'none';\n",
              "\n",
              "        async function convertToInteractive(key) {\n",
              "          const element = document.querySelector('#df-051c80a7-5623-4419-9ec5-c0c54e62ee12');\n",
              "          const dataTable =\n",
              "            await google.colab.kernel.invokeFunction('convertToInteractive',\n",
              "                                                     [key], {});\n",
              "          if (!dataTable) return;\n",
              "\n",
              "          const docLinkHtml = 'Like what you see? Visit the ' +\n",
              "            '<a target=\"_blank\" href=https://colab.research.google.com/notebooks/data_table.ipynb>data table notebook</a>'\n",
              "            + ' to learn more about interactive tables.';\n",
              "          element.innerHTML = '';\n",
              "          dataTable['output_type'] = 'display_data';\n",
              "          await google.colab.output.renderOutput(dataTable, element);\n",
              "          const docLink = document.createElement('div');\n",
              "          docLink.innerHTML = docLinkHtml;\n",
              "          element.appendChild(docLink);\n",
              "        }\n",
              "      </script>\n",
              "    </div>\n",
              "  </div>\n",
              "  "
            ]
          },
          "metadata": {},
          "execution_count": 7
        }
      ]
    },
    {
      "cell_type": "markdown",
      "source": [
        "Menghapus missing value pada salah satu kolom dalam data"
      ],
      "metadata": {
        "id": "SvFzMm_lj60x"
      }
    },
    {
      "cell_type": "code",
      "source": [
        "DataFrame.drop([\"nama kolom\"],axis=1)"
      ],
      "metadata": {
        "id": "vAPNFGyFj-ZL"
      },
      "execution_count": null,
      "outputs": []
    },
    {
      "cell_type": "markdown",
      "source": [
        "#### Mengisi Missing Value"
      ],
      "metadata": {
        "id": "RuwImRO_jroy"
      }
    },
    {
      "cell_type": "markdown",
      "source": [
        "*   Data kontinu: mean, median\n",
        "*   Data diskrit: modus\n",
        "*   Data kategorik: modus, regresi logistik"
      ],
      "metadata": {
        "id": "GhQKIsWyks24"
      }
    },
    {
      "cell_type": "code",
      "source": [
        "#Mengisi missing value pada suatu kolom dengan nilai mean\n",
        "DataFrame[\"nama kolom\"].fillna(\n",
        "    value= DataFrame[\"nama kolom\"].mean(),\n",
        "    inplace=True)"
      ],
      "metadata": {
        "id": "F1aktNX2kIEA"
      },
      "execution_count": null,
      "outputs": []
    },
    {
      "cell_type": "markdown",
      "source": [
        "### Outlier Analysis"
      ],
      "metadata": {
        "id": "7E0t4MSAlUsu"
      }
    },
    {
      "cell_type": "markdown",
      "source": [
        "Outlier adalah pengamatan yang terletak pada jarak abnormal dari nilai lain secara acak. Outlier dapat menyebabkan model yang terbentuk menjadi kurang representatif terhadap data yang ada, sehingga perlu ditangani."
      ],
      "metadata": {
        "id": "oGfxXnC-lZGM"
      }
    },
    {
      "cell_type": "markdown",
      "source": [
        "Boxplot merupakan tampilan grafis yang berguna untuk menggambarkan perilaku data di tengah serta di ujung distribusi. Dengan menggunakan boxplot, kita akan sangat mudah menemukan ada tidaknya outlier pada data kita.\n"
      ],
      "metadata": {
        "id": "NVaKiQ3Yl2Pl"
      }
    },
    {
      "cell_type": "markdown",
      "source": [
        "Apabila ditemukan adanya outlier, terdapat tiga perilaku yang dapat kita lakukan, yaitu membiarkan adanya outlier, menghapus outlier, atau mengisi outlier dengan batas atas atau batas bawah data."
      ],
      "metadata": {
        "id": "oK1av5YsmAGZ"
      }
    },
    {
      "cell_type": "markdown",
      "source": [
        "Batas Atas"
      ],
      "metadata": {
        "id": "NjpqbkzioRKL"
      }
    },
    {
      "cell_type": "code",
      "source": [
        "q3 = DataFrame[\"Nama Kolom\"].quantile(0.75)\n",
        "upper_bound = q3 + 1.5*(q3 - DataFrame[\"Nama Kolom\"].quantile(0.25))\n",
        "DataFrame = DataFrame[~(DataFrame[\"Nama Kolom\"]>upper_bound)] #Menampilkan data tanpa outlier\n",
        "outliers = DataFrame[DataFrame[\"Nama Kolom\"]>upper_bound] #Melihat data outlier"
      ],
      "metadata": {
        "id": "M4yBqfW5oS6M"
      },
      "execution_count": null,
      "outputs": []
    },
    {
      "cell_type": "markdown",
      "source": [
        "Batas Bawah"
      ],
      "metadata": {
        "id": "koJ-4T0go1Vs"
      }
    },
    {
      "cell_type": "code",
      "source": [
        "q1 = DataFrame[\"Nama Kolom\"].quantile(0.25)\n",
        "lower_bound = q1 - 1.5*(q3 - DataFrame[\"Nama Kolom\"].quantile(0.25))\n",
        "DataFrame = DataFrame[~(DataFrame[\"Nama Kolom\"]<=lower_bound)]\n",
        "outliers = DataFrame[DataFrame[\"Nama Kolom\"]<=lower_bound] #Melihat data outlier"
      ],
      "metadata": {
        "id": "7o40VwrOlXfj"
      },
      "execution_count": null,
      "outputs": []
    },
    {
      "cell_type": "markdown",
      "source": [
        "### Encoding Categorical Variable"
      ],
      "metadata": {
        "id": "FfRtxbjBqUnW"
      }
    },
    {
      "cell_type": "markdown",
      "source": [
        "Untuk data kategorik yang tidak memiliki hierarki, sebaiknya kita tidak menggunakan diskritisasi karena akan mengubah data menjadi \"peringkat” tersebut. Cara yang disarankan adalah menggunakan fungsi pd.get dummies() untuk menangani masalah ini.\n"
      ],
      "metadata": {
        "id": "sw2GNRvkq6nP"
      }
    },
    {
      "cell_type": "code",
      "source": [
        "dms=pd.get_dummies(\n",
        "    DataFrame,\n",
        "    columns=[\"Category\"])"
      ],
      "metadata": {
        "id": "ImkJiN-WqtyF"
      },
      "execution_count": null,
      "outputs": []
    }
  ]
}